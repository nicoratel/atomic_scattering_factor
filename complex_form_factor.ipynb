{
 "cells": [
  {
   "cell_type": "markdown",
   "id": "4c244ee4",
   "metadata": {},
   "source": [
    "# Calcul des facteurs de forme atomiques pour la diffusion des rayons X "
   ]
  },
  {
   "cell_type": "markdown",
   "id": "5227b250",
   "metadata": {},
   "source": [
    "## Définitions:\n",
    "\n",
    "Le facteur de forme atomique (rayons X) correspond à l'amplitude de diffusion résonante des rayons X par une densité de charge (ici les électrons primaires du nuage électronique des atomes irradiés). Le facteur de forme dépend:\n",
    "- de l'énergie des rayons X incidents caractérisée par une longueur d'onde $\\lambda$, \n",
    "- du numéro atomique Z des atomes irradiés\n",
    "- de l'angle d'observation $\\theta$, représenté par le vecteur du réseau réciproque $q=4\\pi sin(\\theta)/\\lambda$.\n",
    "\n",
    "Il s'agit d'un nombre complexe qui peut s'écrire sous la forme suivante( https://physics.nist.gov/PhysRefData/FFast/Text2000/sec02.html#eq04):\n",
    "\n",
    "$f(q,\\lambda)=f_0(q)+f'(\\lambda)+f_{NT} +if''(\\lambda)$ (1)\n",
    "\n",
    "- Le terme $f_0(q)$ représente l'évolution du facteur de forme avec l'angle d'observation. On a classiquement $f_0(q=0)=Z$\n",
    "- le terme $f'(\\lambda)$ est le facteur de diffusion anomale\n",
    "- le terme $f_{NT}$ correpond au petit terme nucléaire Thomson, fourni par la base de données NIST\n",
    "- le terme $f''(\\lambda)$ est directement relié à la section efficace atomique de photoabsorption. Il correspond directement au terme $f_2$ fourni par NIST\n",
    "\n",
    "Le terme $f'(\\lambda)$ peut se décomposer comme suit:\n",
    "$f'(\\lambda)=f_1(\\lambda)+f_{rel}-Z$ (2)\n",
    "\n",
    "- $f_1(\\lambda)$ est un terme qui est accessibe sur la base de données NIST\n",
    "- $f_{rel}$ est un (faible) terme de correction relativiste également fourni par NIST\n",
    "- le terme $f''(\\lambda)=f_2(\\lambda)$ est accessible depuis la base de données NIST\n",
    "\n",
    "L'équation 2 devient alors:\n",
    "\n",
    "$f(q,\\lambda)=f_0(q)+f_1(\\lambda)+f_{rel}-Z+f_{NT}+if_2(\\lambda)$ (3)"
   ]
  },
  {
   "cell_type": "markdown",
   "id": "7907b84a",
   "metadata": {},
   "source": [
    "## Calcul de $f_0$\n",
    "\n",
    "Le terme $f_0$ traduit la dépendance angulaire du facteur de diffusion des atomes (il est également appelé terme non dispersif, car indépendant de l'énergie du faisceau incident). L'évolution angulaire de ce terme peut se calculer en utilisant la formule suivante:\n",
    "\n",
    "$f_0(q)=\\sum \\limits _{i=1}^4 a_i.exp(-b_iq²)+c$ (5)\n",
    "\n",
    "où les termes $a_i$, $b_i$ et c sont les coefficients de Cromer-Mann, fournis dans les tables internationales de cristallographie.\n",
    "\n",
    "### Calcul de $f_0$ dans Python\n",
    "\n",
    "On fait appel à la bibliothèque xraydb (https://xraypy.github.io/XrayDB/python.html). Il y a une fonction qui permet de calculer le terme f0 pour une espèce atomique donnée dans une gamme de valeurs de q définie par l'uilisateur. On va donc écrire ici une fonction qui permet de retourner les valeurs $f_0(q)$ pour un élément donné (défini par son symbole issu de la classification périodique). "
   ]
  },
  {
   "cell_type": "markdown",
   "id": "32b7d4c2",
   "metadata": {},
   "source": [
    "####  Import des bibliothèques - Défintion de variables test"
   ]
  },
  {
   "cell_type": "code",
   "execution_count": 1,
   "id": "c7aa24df",
   "metadata": {},
   "outputs": [],
   "source": [
    "import xraydb\n",
    "import numpy as np\n",
    "# bibliothèques utiles pour le calcul de f1\n",
    "import functools\n",
    "import requests\n",
    "from io import StringIO\n",
    "from bs4 import BeautifulSoup\n",
    "from urllib.parse import urljoin\n",
    "from matplotlib import pyplot as plt\n",
    "import numba as nb\n",
    "import math\n",
    "\n",
    "# Définition de la gamme de q sur laquelle on teste les fonctions\n",
    "qmin=0.01\n",
    "qmax=20\n",
    "qstep=0.01\n",
    "\n",
    "\n",
    "# Définition de l'espèce atomique pour laquelle on calcule le facteur de diffusion\n",
    "element='Pt'\n",
    "\n",
    "# Définition de la longueur d'onde\n",
    "wavelength=0.7107"
   ]
  },
  {
   "cell_type": "markdown",
   "id": "55a30ab9",
   "metadata": {},
   "source": [
    "#### Fonction pour le calcul de f0"
   ]
  },
  {
   "cell_type": "code",
   "execution_count": 2,
   "id": "3dff57ed",
   "metadata": {},
   "outputs": [],
   "source": [
    "def _f0(qmin,qmax,qstep,element):\n",
    "    qarray=np.arange(qmin,qmax,qstep)\n",
    "    f=xraydb.f0(element,qarray)\n",
    "    return f\n"
   ]
  },
  {
   "cell_type": "markdown",
   "id": "f896e6fe",
   "metadata": {},
   "source": [
    "### Calcul des termes $f_1(\\lambda)$, $f_{rel}$, $f_{NT}$ et $f_2(\\lambda)$\n",
    "\n",
    "Ces coefficients sont accessibles depuis la base de données NIST.\n",
    "Dans un premier temps, il convient de récupérer la dépendance des termes $f_1$ et $f_2$ avec l'énergie. Pour ce faire, on adapte une fonction disponible sur github à l'adresse suivante (https://gist.github.com/skuschel/ffc7bcbfd095d3feda40d21951b02491). \n",
    "La fonction initialement proposée renvoie 2 tableaux, l'un correspondant à l'énergie, en eV, l'autre au terme $f=f_1+if_2$. On va chercher les valeurs de $f_1$ et $f_2$ correspondant à l'énergie du faisceau de rayons X utilisé. Dans notre cas, on utilise la raie $K_{\\alpha}$ produite par une anode Mo ($\\lambda=0.071nm$. L'énergie correspondante est $E=17 326.58eV$\n",
    "\n",
    "Dans le code python, 2 options se présentent:\n",
    "- soit on cherche la valeur d'énergie la plus proche dans le tableau des énergies et on prend les valeurs de $f_1$/$f_2$ correspondantes\n",
    "- soit on interpole les valeurs de $f_1$/$f_2$ à partir des données fournies.\n",
    "Ici on va utiliser la fonction numpy.interp pour interpoler la valeur de f corredpondante. En pratique, on va définir une fonction qui permettra de donner les valeurs de $f_1$/$f_2$ en lui donnant comme variables d'entrées un élément sous forme de chaine de caractères et la longueur d'onde en angströms.  \n",
    "\n",
    "La fonction à coder prend 2 variables d'entrée, qui sont la nature de l'élément pour lequel on cherche à calculer la valuer du facteur de diffusion, et la longueur d'onde du faisceau de rayons X utilisé.\n"
   ]
  },
  {
   "cell_type": "code",
   "execution_count": 3,
   "id": "db8450e4",
   "metadata": {},
   "outputs": [
    {
     "name": "stdout",
     "output_type": "stream",
     "text": [
      "f1 =  77.02491122845879\n",
      "frel = -1.6659\n",
      "fNT = -0.017109\n",
      "f2 = 8.429487361151416\n"
     ]
    }
   ],
   "source": [
    "def atomicformfactor_nist(element,wavelength):\n",
    "    Z=xraydb.atomic_number(element)\n",
    "    #Nist database containes entries for 1<Z<92\n",
    "    if Z<92:\n",
    "        #baseurl = 'https://physics.nist.gov/cgi-bin'\n",
    "        urltmplate = 'https://physics.nist.gov/cgi-bin/ffast/ffast.pl?gtype=4&Z={Z}'\n",
    "        url = urltmplate.format(Z=Z)\n",
    "        session = requests.Session()\n",
    "        r = session.get(url).content\n",
    "        # parse page\n",
    "        soup = BeautifulSoup(r)\n",
    "        text=soup.get_text()\n",
    "        # break into lines and remove leading and trailing space on each\n",
    "        lines = (line.strip() for line in text.splitlines())\n",
    "        # break multi-headlines into a line each\n",
    "        chunks = (phrase.strip() for line in lines for phrase in line.split(\"  \"))\n",
    "        # drop blank lines\n",
    "        text = '\\n'.join(chunk for chunk in chunks if chunk)\n",
    "        index=text.find('fNT =')\n",
    "        start=index+len('fNT = ')\n",
    "        fNT=float(text[start:start+11])\n",
    "        index=text.find('frel (H82,3/5CL) = ')\n",
    "        start=index+len('frel (H82,3/5CL) = ')\n",
    "        frel=float(text[start:start+11])\n",
    "        tabledata = soup.select('pre')[1].text.splitlines()[3:]\n",
    "        tabledata = '\\n'.join(tabledata)\n",
    "        data = np.genfromtxt(StringIO(tabledata))\n",
    "        ev = data[:, 0] * 1e3\n",
    "        f = data[:,1] + 1j*data[:,2]\n",
    "        f1_array=f.real\n",
    "        f2_array=f.imag\n",
    "        energy=12314/wavelength\n",
    "        # Interpolation à l'énergie souhaitée\n",
    "        f1=np.interp(energy,ev,f1_array)\n",
    "        f2=np.interp(energy,ev,f2_array)\n",
    "    else:\n",
    "        f1=0\n",
    "        fNT=0\n",
    "        frel=0\n",
    "        f2=0\n",
    "    return f1, fNT, frel, f2\n",
    "    \n",
    "\n",
    "# On trouve le numéro atomique correspondant à notre élément\n",
    "Z=xraydb.atomic_number(element)\n",
    "#print('Atomic number of %s'%element+' is:',Z)\n",
    "\n",
    "nist_array=atomicformfactor_nist(element,wavelength)\n",
    "f1=nist_array[0]\n",
    "fNT=nist_array[1]\n",
    "frel=nist_array[2]\n",
    "f2=nist_array[3]\n",
    "print('f1 = ',f1)\n",
    "print('frel =',frel)\n",
    "print('fNT =',fNT)\n",
    "print('f2 =',f2)\n"
   ]
  },
  {
   "cell_type": "markdown",
   "id": "10f7228f",
   "metadata": {},
   "source": [
    "### Fonction pour le calcul de $f(q,\\lambda)$\n",
    "\n",
    "Maintenant que nous avons récupéré tous les termes, on va coder une fonction pour l'équation (3). Cette fonction prendra comme variables d'entrée les éléments suivants:\n",
    "- élément (sous forme de chaîne de caractère, ex: 'Au')\n",
    "- 3 valeurs qmin, qmax et qstep pour définir un tableau de valeurs de q\n",
    "- la longueur d'onde utilisée\n",
    "\n",
    "La fonction retournera 1 tableau de valeurs de f calculés suivant l'équation (3). Ce tabealu a la même dimension que le tableau de valeurs de q.\n",
    "\n",
    "\n",
    "On définiera 2 fonctions: l'une '_f_real' qui ne retournera uniquement la partie réelle du facteur de diffusion; la seconde _f_complex qui reournera la forme complexe du facteur de diffusion."
   ]
  },
  {
   "cell_type": "code",
   "execution_count": 4,
   "id": "984d1165",
   "metadata": {},
   "outputs": [
    {
     "data": {
      "image/png": "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\n",
      "text/plain": [
       "<Figure size 640x480 with 1 Axes>"
      ]
     },
     "metadata": {},
     "output_type": "display_data"
    }
   ],
   "source": [
    "def _f_complex(element,qmin,qmax,qstep,wavelength):\n",
    "    # définition du tableau de valeurs de q\n",
    "    qarray=np.arange(qmin,qmax,qstep)\n",
    "    # Calcul de f0\n",
    "    f0=_f0(qmin,qmax,qstep,element)\n",
    "    # Calcul de la composante dispersive f1+frel+fNT\n",
    "    fdisp=atomicformfactor_nist(element,wavelength)\n",
    "    f1=fdisp[0]\n",
    "    fNT=fdisp[1]\n",
    "    frel=fdisp[2]\n",
    "    f2=fdisp[3]\n",
    "    \n",
    "    # Calcul de f sous forme complexe\n",
    "    f=np.zeros(len(qarray),dtype=np.complex_)\n",
    "    real=f0+f1+frel+fNT-Z\n",
    "    imag=np.full_like(f0,f2)\n",
    "    f=real+imag*1j\n",
    "    \n",
    "    return f\n",
    "\n",
    "\n",
    "qmin=0.005\n",
    "qmax=20\n",
    "qstep=0.01\n",
    "q_array=np.arange(qmin,qmax,qstep)\n",
    "wavelength=0.7107\n",
    "f_pt=_f_complex('Pt',qmin,qmax,qstep,wavelength)\n",
    "f_fe=_f_complex('Fe',qmin,qmax,qstep,wavelength)\n",
    "\n",
    "f0_pt=xraydb.f0('Pt',q_array)\n",
    "f0_fe=xraydb.f0('Fe',q_array)\n",
    "\n",
    "#plt.plot(q_array,f_pt.real,'-b',label='Pt')\n",
    "#plt.plot(q_array,f_fe.real,'--r',label='Fe')\n",
    "plt.plot(q_array,f0_pt,'-b',label='Pt')\n",
    "plt.plot(q_array,f0_fe,'--r',label='Fe')\n",
    "plt.xlabel('Q')\n",
    "plt.ylabel('f')\n",
    "plt.legend()\n",
    "plt.show()"
   ]
  }
  
