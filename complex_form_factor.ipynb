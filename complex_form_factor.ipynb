{
 "cells": [
  {
   "cell_type": "markdown",
   "id": "4c244ee4",
   "metadata": {},
   "source": [
    "# Calcul des facteurs de forme atomiques pour la diffusion des rayons X "
   ]
  },
  {
   "cell_type": "markdown",
   "id": "5227b250",
   "metadata": {},
   "source": [
    "## Définitions:\n",
    "\n",
    "Le facteur de forme atomique (rayons X) correspond à l'amplitude de diffusion résonante des rayons X par une densité de charge (ici les électrons primaires du nuage électronique des atomes irradiés). Le facteur de forme dépend:\n",
    "- de l'énergie des rayons X incidents caractérisée par une longueur d'onde $\\lambda$, \n",
    "- du numéro atomique Z des atomes irradiés\n",
    "- de l'angle d'observation $\\theta$, représenté par le vecteur du réseau réciproque $q=4\\pi sin(\\theta)/\\lambda$.\n",
    "\n",
    "Il s'agit d'un nombre complexe qui peut s'écrire sous la forme suivante( https://physics.nist.gov/PhysRefData/FFast/Text2000/sec02.html#eq04):\n",
    "\n",
    "$f(q,\\lambda)=f_0(q)+f'(\\lambda)+f_{NT} +if''(\\lambda)$ (1)\n",
    "\n",
    "- Le terme $f_0(q)$ représente l'évolution du facteur de forme avec l'angle d'observation. On a classiquement $f_0(q=0)=Z$\n",
    "- le terme $f'(\\lambda)$ est le facteur de diffusion anomale\n",
    "- le terme $f_{NT}$ correpond au petit terme nucléaire Thomson, fourni par la base de données NIST\n",
    "- le terme $f''(\\lambda)$ est directement relié à la section efficace atomique de photoabsorption. Il correspond directement au terme $f_2$ fourni par NIST\n",
    "\n",
    "Le terme $f'(\\lambda)$ peut se décomposer comme suit:\n",
    "$f'(\\lambda)=f_1(\\lambda)+f_{rel}-Z$ (2)\n",
    "\n",
    "- $f_1(\\lambda)$ est un terme qui est accessibe sur la base de données NIST\n",
    "- $f_{rel}$ est un (faible) terme de correction relativiste également fourni par NIST\n",
    "- le terme $f''(\\lambda)=f_2(\\lambda)$ est accessible depuis la base de données NIST\n",
    "\n",
    "L'équation 2 devient alors:\n",
    "\n",
    "$f(q,\\lambda)=f_0(q)+f_1(\\lambda)+f_{rel}-Z+f_{NT}+if_2(\\lambda)$ (3)"
   ]
  },
  {
   "cell_type": "markdown",
   "id": "7907b84a",
   "metadata": {},
   "source": [
    "## Calcul de $f_0$\n",
    "\n",
    "Le terme $f_0$ traduit la dépendance angulaire du facteur de diffusion des atomes (il est également appelé terme non dispersif, car indépendant de l'énergie du faisceau incident). L'évolution angulaire de ce terme peut se calculer en utilisant la formule suivante:\n",
    "\n",
    "$f_0(q)=\\sum \\limits _{i=1}^4 a_i.exp(-b_iq²)+c$ (5)\n",
    "\n",
    "où les termes $a_i$, $b_i$ et c sont les coefficients de Cromer-Mann, fournis dans les tables internationales de cristallographie.\n",
    "\n",
    "### Calcul de $f_0$ dans Python\n",
    "\n",
    "On fait appel à la bibliothèque xraydb (https://xraypy.github.io/XrayDB/python.html). Il y a une fonction qui permet de calculer le terme f0 pour une espèce atomique donnée dans une gamme de valeurs de q définie par l'uilisateur. On va donc écrire ici une fonction qui permet de retourner les valeurs $f_0(q)$ pour un élément donné (défini par son symbole issu de la classification périodique). "
   ]
  },
  {
   "cell_type": "markdown",
   "id": "32b7d4c2",
   "metadata": {},
   "source": [
    "####  Import des bibliothèques - Défintion de variables test"
   ]
  },
  {
   "cell_type": "code",
   "execution_count": 1,
   "id": "c7aa24df",
   "metadata": {},
   "outputs": [],
   "source": [
    "import xraydb\n",
    "import numpy as np\n",
    "# bibliothèques utiles pour le calcul de f1\n",
    "import functools\n",
    "import requests\n",
    "from io import StringIO\n",
    "from bs4 import BeautifulSoup\n",
    "from urllib.parse import urljoin\n",
    "from matplotlib import pyplot as plt\n",
    "import numba as nb\n",
    "import math\n",
    "\n",
    "# Définition de la gamme de q sur laquelle on teste les fonctions\n",
    "qmin=0.01\n",
    "qmax=20\n",
    "qstep=0.01\n",
    "\n",
    "\n",
    "# Définition de l'espèce atomique pour laquelle on calcule le facteur de diffusion\n",
    "element='Pt'\n",
    "\n",
    "# Définition de la longueur d'onde\n",
    "wavelength=0.7107"
   ]
  },
  {
   "cell_type": "markdown",
   "id": "55a30ab9",
   "metadata": {},
   "source": [
    "#### Fonction pour le calcul de f0"
   ]
  },
  {
   "cell_type": "code",
   "execution_count": 2,
   "id": "3dff57ed",
   "metadata": {},
   "outputs": [],
   "source": [
    "def _f0(qmin,qmax,qstep,element):\n",
    "    qarray=np.arange(qmin,qmax,qstep)\n",
    "    f=xraydb.f0(element,qarray)\n",
    "    return f\n"
   ]
  },
  {
   "cell_type": "markdown",
   "id": "f896e6fe",
   "metadata": {},
   "source": [
    "### Calcul des termes $f_1(\\lambda)$, $f_{rel}$, $f_{NT}$ et $f_2(\\lambda)$\n",
    "\n",
    "Ces coefficients sont accessibles depuis la base de données NIST.\n",
    "Dans un premier temps, il convient de récupérer la dépendance des termes $f_1$ et $f_2$ avec l'énergie. Pour ce faire, on adapte une fonction disponible sur github à l'adresse suivante (https://gist.github.com/skuschel/ffc7bcbfd095d3feda40d21951b02491). \n",
    "La fonction initialement proposée renvoie 2 tableaux, l'un correspondant à l'énergie, en eV, l'autre au terme $f=f_1+if_2$. On va chercher les valeurs de $f_1$ et $f_2$ correspondant à l'énergie du faisceau de rayons X utilisé. Dans notre cas, on utilise la raie $K_{\\alpha}$ produite par une anode Mo ($\\lambda=0.071nm$. L'énergie correspondante est $E=17 326.58eV$\n",
    "\n",
    "Dans le code python, 2 options se présentent:\n",
    "- soit on cherche la valeur d'énergie la plus proche dans le tableau des énergies et on prend les valeurs de $f_1$/$f_2$ correspondantes\n",
    "- soit on interpole les valeurs de $f_1$/$f_2$ à partir des données fournies.\n",
    "Ici on va utiliser la fonction numpy.interp pour interpoler la valeur de f corredpondante. En pratique, on va définir une fonction qui permettra de donner les valeurs de $f_1$/$f_2$ en lui donnant comme variables d'entrées un élément sous forme de chaine de caractères et la longueur d'onde en angströms.  \n",
    "\n",
    "La fonction à coder prend 2 variables d'entrée, qui sont la nature de l'élément pour lequel on cherche à calculer la valuer du facteur de diffusion, et la longueur d'onde du faisceau de rayons X utilisé.\n"
   ]
  },
  {
   "cell_type": "code",
   "execution_count": 3,
   "id": "db8450e4",
   "metadata": {},
   "outputs": [
    {
     "name": "stdout",
     "output_type": "stream",
     "text": [
      "f1 =  77.02491122845879\n",
      "frel = -1.6659\n",
      "fNT = -0.017109\n",
      "f2 = 8.429487361151416\n"
     ]
    }
   ],
   "source": [
    "def atomicformfactor_nist(element,wavelength):\n",
    "    Z=xraydb.atomic_number(element)\n",
    "    #Nist database containes entries for 1<Z<92\n",
    "    if Z<92:\n",
    "        #baseurl = 'https://physics.nist.gov/cgi-bin'\n",
    "        urltmplate = 'https://physics.nist.gov/cgi-bin/ffast/ffast.pl?gtype=4&Z={Z}'\n",
    "        url = urltmplate.format(Z=Z)\n",
    "        session = requests.Session()\n",
    "        r = session.get(url).content\n",
    "        # parse page\n",
    "        soup = BeautifulSoup(r)\n",
    "        text=soup.get_text()\n",
    "        # break into lines and remove leading and trailing space on each\n",
    "        lines = (line.strip() for line in text.splitlines())\n",
    "        # break multi-headlines into a line each\n",
    "        chunks = (phrase.strip() for line in lines for phrase in line.split(\"  \"))\n",
    "        # drop blank lines\n",
    "        text = '\\n'.join(chunk for chunk in chunks if chunk)\n",
    "        index=text.find('fNT =')\n",
    "        start=index+len('fNT = ')\n",
    "        fNT=float(text[start:start+11])\n",
    "        index=text.find('frel (H82,3/5CL) = ')\n",
    "        start=index+len('frel (H82,3/5CL) = ')\n",
    "        frel=float(text[start:start+11])\n",
    "        tabledata = soup.select('pre')[1].text.splitlines()[3:]\n",
    "        tabledata = '\\n'.join(tabledata)\n",
    "        data = np.genfromtxt(StringIO(tabledata))\n",
    "        ev = data[:, 0] * 1e3\n",
    "        f = data[:,1] + 1j*data[:,2]\n",
    "        f1_array=f.real\n",
    "        f2_array=f.imag\n",
    "        energy=12314/wavelength\n",
    "        # Interpolation à l'énergie souhaitée\n",
    "        f1=np.interp(energy,ev,f1_array)\n",
    "        f2=np.interp(energy,ev,f2_array)\n",
    "    else:\n",
    "        f1=0\n",
    "        fNT=0\n",
    "        frel=0\n",
    "        f2=0\n",
    "    return f1, fNT, frel, f2\n",
    "    \n",
    "\n",
    "# On trouve le numéro atomique correspondant à notre élément\n",
    "Z=xraydb.atomic_number(element)\n",
    "#print('Atomic number of %s'%element+' is:',Z)\n",
    "\n",
    "nist_array=atomicformfactor_nist(element,wavelength)\n",
    "f1=nist_array[0]\n",
    "fNT=nist_array[1]\n",
    "frel=nist_array[2]\n",
    "f2=nist_array[3]\n",
    "print('f1 = ',f1)\n",
    "print('frel =',frel)\n",
    "print('fNT =',fNT)\n",
    "print('f2 =',f2)\n"
   ]
  },
  {
   "cell_type": "markdown",
   "id": "10f7228f",
   "metadata": {},
   "source": [
    "### Fonction pour le calcul de $f(q,\\lambda)$\n",
    "\n",
    "Maintenant que nous avons récupéré tous les termes, on va coder une fonction pour l'équation (3). Cette fonction prendra comme variables d'entrée les éléments suivants:\n",
    "- élément (sous forme de chaîne de caractère, ex: 'Au')\n",
    "- 3 valeurs qmin, qmax et qstep pour définir un tableau de valeurs de q\n",
    "- la longueur d'onde utilisée\n",
    "\n",
    "La fonction retournera 1 tableau de valeurs de f calculés suivant l'équation (3). Ce tabealu a la même dimension que le tableau de valeurs de q.\n",
    "\n",
    "\n",
    "On définiera 2 fonctions: l'une '_f_real' qui ne retournera uniquement la partie réelle du facteur de diffusion; la seconde _f_complex qui reournera la forme complexe du facteur de diffusion."
   ]
  },
  {
   "cell_type": "code",
   "execution_count": 4,
   "id": "984d1165",
   "metadata": {},
   "outputs": [
    {
     "data": {
      "image/png": "[encoded data removed]",
      "text/plain": [
       "<Figure size 640x480 with 1 Axes>"
      ]
     },
     "metadata": {},
     "output_type": "display_data"
    }
   ],
   "source": [
    "def _f_complex(element,qmin,qmax,qstep,wavelength):\n",
    "    # définition du tableau de valeurs de q\n",
    "    qarray=np.arange(qmin,qmax,qstep)\n",
    "    # Calcul de f0\n",
    "    f0=_f0(qmin,qmax,qstep,element)\n",
    "    # Calcul de la composante dispersive f1+frel+fNT\n",
    "    fdisp=atomicformfactor_nist(element,wavelength)\n",
    "    f1=fdisp[0]\n",
    "    fNT=fdisp[1]\n",
    "    frel=fdisp[2]\n",
    "    f2=fdisp[3]\n",
    "    \n",
    "    # Calcul de f sous forme complexe\n",
    "    f=np.zeros(len(qarray),dtype=np.complex_)\n",
    "    real=f0+f1+frel+fNT-Z\n",
    "    imag=np.full_like(f0,f2)\n",
    "    f=real+imag*1j\n",
    "    \n",
    "    return f\n",
    "\n",
    "\n",
    "qmin=0.005\n",
    "qmax=20\n",
    "qstep=0.01\n",
    "q_array=np.arange(qmin,qmax,qstep)\n",
    "wavelength=0.7107\n",
    "f_pt=_f_complex('Pt',qmin,qmax,qstep,wavelength)\n",
    "f_fe=_f_complex('Fe',qmin,qmax,qstep,wavelength)\n",
    "\n",
    "f0_pt=xraydb.f0('Pt',q_array)\n",
    "f0_fe=xraydb.f0('Fe',q_array)\n",
    "\n",
    "#plt.plot(q_array,f_pt.real,'-b',label='Pt')\n",
    "#plt.plot(q_array,f_fe.real,'--r',label='Fe')\n",
    "plt.plot(q_array,f0_pt,'-b',label='Pt')\n",
    "plt.plot(q_array,f0_fe,'--r',label='Fe')\n",
    "plt.xlabel('Q')\n",
    "plt.ylabel('f')\n",
    "plt.legend()\n",
    "plt.show()"
   ]
  },
  {
   "cell_type": "markdown",
   "id": "38d55f06",
   "metadata": {},
   "source": [
    "### Test du code et comparaison avec les calculs effectués avec Debyer"
   ]
  },
  {
   "cell_type": "markdown",
   "id": "36ef514a",
   "metadata": {},
   "source": [
    "L'idée est maintenant de faire un calcul de l'intensité diffusée par une particule icosahédrique d'argent de 4 couches. Pour ce faire, on utilisera les algorithmes de calcul d'équation de Debye développés par A. Boule ou le prgramme debyer. Les 3 hypothèses suivantes seront explorées:\n",
    "- Calcul avec $f_0$ (composante non dispersive uniquement) en utilisant l'algorithme A. Boule\n",
    "- Calcul avec $f$ tel que calculé ci dessus, c'est à dire en tenant compte de la composante dispersive du facteur de diffusion en utilisant l'algorithme d'A. Boule\n",
    "- Calcul avec le logiciel Debyer\n",
    "\n",
    "Dans un premier temps, il faut créer la structure icosahédrique et récupérer les coordonnées des atomes\n"
   ]
  },
  {
   "cell_type": "code",
   "execution_count": 5,
   "id": "758da44f",
   "metadata": {},
   "outputs": [],
   "source": [
    "from ase.cluster import Icosahedron\n",
    "\n",
    "ico=Icosahedron(element,4,4.0855)\n",
    "xyz_coords=ico.get_positions()\n",
    "\n",
    "#number of atoms\n",
    "N,dim=np.shape(xyz_coords)\n",
    "\n",
    "q=np.arange(qmin,qmax,qstep)\n"
   ]
  },
  {
   "cell_type": "markdown",
   "id": "341eb12a",
   "metadata": {},
   "source": [
    "On recopie maintenant les fonctions crées par A. Boule"
   ]
  },
  {
   "cell_type": "code",
   "execution_count": 6,
   "id": "b66b3b1e",
   "metadata": {},
   "outputs": [],
   "source": [
    "@nb.jit(nb.float64[:](nb.float64[:,:]), nopython=True, fastmath=True, parallel=True)\n",
    "def r_ij(coords):\n",
    "    r = np.zeros(int((N*N-N)/2), dtype=nb.float64)\n",
    "    for i in nb.prange(N):\n",
    "        for j in range(i+1,N):\n",
    "            l = int(i * (N - 1) - i * (i + 1) / 2 + j - 1)\n",
    "            tmp = 0.0\n",
    "            for k in range(dim):\n",
    "                tmp += (coords[i,k]-coords[j,k])**2\n",
    "            r[l] = tmp**0.5\n",
    "    return r\n",
    "r=r_ij(xyz_coords)"
   ]
  },
  {
   "cell_type": "code",
   "execution_count": 7,
   "id": "ac31fea7",
   "metadata": {},
   "outputs": [
    {
     "data": {
      "image/png": "[encoded data removed]",
      "text/plain": [
       "<Figure size 640x480 with 1 Axes>"
      ]
     },
     "metadata": {},
     "output_type": "display_data"
    }
   ],
   "source": [
    "fcomplex=_f_complex(element,qmin,qmax,qstep,wavelength)\n",
    "\n",
    "# Comme on fait appel à des nombres complexes, la ligne d'entête de numba est différente.\n",
    "# Il est donc nécessaire de redéfinir la fonction Debye\n",
    "\n",
    "\n",
    "@nb.jit(nb.float64[:](nb.float64[:], nb.float64[:], nb.int64, nb.complex128[:]),\n",
    "        nopython=True, fastmath=True, parallel=True)\n",
    "\n",
    "def Debye_complex(Q,r,N,f_at):\n",
    "    \n",
    "    res = np.zeros(int(len(Q)), dtype = nb.float64)\n",
    "    for i_Q in nb.prange(len(Q)):\n",
    "        tmp = 0.0\n",
    "        for i_r in range(len(r)): #\"for v_r in r\" doens't work (probably bc r is float)\n",
    "            tmp += math.sin(Q[i_Q]*r[i_r])/(Q[i_Q]*r[i_r])\n",
    "        res[i_Q] = (N + 2*tmp)*abs(f_at[i_Q])**2\n",
    "    return res\n",
    "\n",
    "\n",
    "iq_fcomplex=Debye_complex(q,r,N,fcomplex)\n",
    "\n",
    "#import debyer data\n",
    "q_debyer,i_debyer=np.loadtxt('Ag_Icosahedron_4shells.sq',unpack=True)\n",
    "\n",
    "### Plot it\n",
    "plt.loglog(q,iq_fcomplex,'-r',label='f')\n",
    "plt.loglog(q_debyer,i_debyer,'--b',label='Debyer')\n",
    "plt.legend()\n",
    "plt.show()"
   ]
  },
  {
   "cell_type": "code",
   "execution_count": null,
   "id": "2d607dcf",
   "metadata": {},
   "outputs": [],
   "source": []
  }
 ],
 "metadata": {
  "kernelspec": {
   "display_name": "Python 3 (ipykernel)",
   "language": "python",
   "name": "python3"
  },
  "language_info": {
   "codemirror_mode": {
    "name": "ipython",
    "version": 3
   },
   "file_extension": ".py",
   "mimetype": "text/x-python",
   "name": "python",
   "nbconvert_exporter": "python",
   "pygments_lexer": "ipython3",
   "version": "3.7.12"
  }
 },
 "nbformat": 4,
 "nbformat_minor": 5
}
